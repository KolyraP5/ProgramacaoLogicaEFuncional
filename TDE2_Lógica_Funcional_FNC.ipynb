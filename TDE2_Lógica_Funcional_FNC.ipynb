{
  "nbformat": 4,
  "nbformat_minor": 0,
  "metadata": {
    "colab": {
      "provenance": [],
      "include_colab_link": true
    },
    "kernelspec": {
      "name": "python3",
      "display_name": "Python 3"
    },
    "language_info": {
      "name": "python"
    }
  },
  "cells": [
    {
      "cell_type": "markdown",
      "metadata": {
        "id": "view-in-github",
        "colab_type": "text"
      },
      "source": [
        "<a href=\"https://colab.research.google.com/github/KolyraP5/ProgramacaoLogicaEFuncional/blob/main/TDE2_L%C3%B3gica_Funcional_FNC.ipynb\" target=\"_parent\"><img src=\"https://colab.research.google.com/assets/colab-badge.svg\" alt=\"Open In Colab\"/></a>"
      ]
    },
    {
      "cell_type": "markdown",
      "source": [
        "# Geração do arquivo txt de entrada"
      ],
      "metadata": {
        "id": "ZimQ4F0115hW"
      }
    },
    {
      "cell_type": "code",
      "source": [
        "#Cria um arquivo de entrada com FBFs\n",
        "fbfs_exemplo = \"\"\"2\n",
        "a & (b | ~c)\n",
        "(p | q) & (~r | s)\n",
        "\"\"\"\n",
        "\n",
        "with open('fbf_entrada.txt', 'w') as file:\n",
        "    file.write(fbfs_exemplo)\n",
        "\n",
        "print(\"Arquivo 'fbf_entrada.txt' criado com sucesso!\")\n"
      ],
      "metadata": {
        "colab": {
          "base_uri": "https://localhost:8080/"
        },
        "id": "Zgk8kBtG1koI",
        "outputId": "bce7b08c-a6aa-4e11-f8f0-d20bb7d0ba8f"
      },
      "execution_count": 1,
      "outputs": [
        {
          "output_type": "stream",
          "name": "stdout",
          "text": [
            "Arquivo 'fbf_entrada.txt' criado com sucesso!\n"
          ]
        }
      ]
    },
    {
      "cell_type": "markdown",
      "source": [
        "# Código"
      ],
      "metadata": {
        "id": "4WQ3kbZu1-B2"
      }
    },
    {
      "cell_type": "code",
      "execution_count": null,
      "metadata": {
        "colab": {
          "base_uri": "https://localhost:8080/",
          "height": 96
        },
        "id": "1GuOxXNq0KLf",
        "outputId": "f2e0bf88-33aa-4b86-9a6d-7368ee69e413"
      },
      "outputs": [
        {
          "output_type": "stream",
          "name": "stdout",
          "text": [
            "Fórmula em FNC: a & (b | ~c)\n"
          ]
        },
        {
          "output_type": "display_data",
          "data": {
            "text/plain": [
              "<IPython.core.display.Math object>"
            ],
            "text/latex": "$\\displaystyle a \\wedge \\left(b \\vee \\neg c\\right)$"
          },
          "metadata": {}
        },
        {
          "output_type": "stream",
          "name": "stdout",
          "text": [
            "Fórmula em FNC: (p | q) & (s | ~r)\n"
          ]
        },
        {
          "output_type": "display_data",
          "data": {
            "text/plain": [
              "<IPython.core.display.Math object>"
            ],
            "text/latex": "$\\displaystyle \\left(p \\vee q\\right) \\wedge \\left(s \\vee \\neg r\\right)$"
          },
          "metadata": {}
        }
      ],
      "source": [
        "from sympy import symbols, to_cnf\n",
        "from sympy import latex\n",
        "from sympy.abc import a, b, c, p, q, r, s\n",
        "from IPython.display import display, Math\n",
        "\n",
        "#Função para ler o arquivo txt\n",
        "def ler_fbf(arquivo_entrada):\n",
        "    with open(arquivo_entrada, 'r') as file:\n",
        "        num_fbf = int(file.readline().strip())\n",
        "        fbfs = [file.readline().strip() for _ in range(num_fbf)]  #Lê a fórmula bem formada e transforma em Latex\n",
        "    return fbfs\n",
        "\n",
        "def converter_para_fnc(fbf):\n",
        "    # Extrai as variáveis proposicionais da fórmula\n",
        "    variaveis = set([char for char in fbf if char.isalpha()])\n",
        "    simbolos = {var: symbols(var) for var in variaveis}\n",
        "\n",
        "    #Ás varáveis são tratadas como símbolos\n",
        "    fbf_sympy = eval(fbf, simbolos)\n",
        "\n",
        "    #Converte para a Forma Normal Conjuntiva\n",
        "    fnc = to_cnf(fbf_sympy, simplify=True)\n",
        "    return fnc\n",
        "\n",
        "#Escreve a Forma Normal Conjuntiva\n",
        "def escrever_fbf_em_fnc(fbfs_fnc, arquivo_saida):\n",
        "    with open(arquivo_saida, 'w') as file:\n",
        "        for fbf in fbfs_fnc:\n",
        "            file.write(f\"{str(fbf)}\\n\")\n",
        "\n",
        "#Função para imprimir as Formas Normais Conjuntivas noterminal\n",
        "def imprimir_fbf(fbfs_fnc):\n",
        "    for fbf in fbfs_fnc:\n",
        "        print(f\"Fórmula em FNC: {fbf}\")\n",
        "        display(Math(latex(fbf)))  #Aplica Latex na fórmula bem formada\n",
        "\n",
        "\n",
        "def main():\n",
        "    arquivo_entrada = 'fbf_entrada.txt'\n",
        "    arquivo_saida = 'fbf_fnc_saida.txt'\n",
        "\n",
        "    #Lê as FBFs do arquivo de entrada\n",
        "    fbfs = ler_fbf(arquivo_entrada)\n",
        "\n",
        "    #Converte as Fórmulas Bem Formadas para a Forma Normal Conjuntiva\n",
        "    fbfs_fnc = [converter_para_fnc(fbf) for fbf in fbfs]\n",
        "\n",
        "    #Escreve as Fórmulas Bem Formuladas convertidas em Formas Normais Conjuntivas no arquivo de saída\n",
        "    escrever_fbf_em_fnc(fbfs_fnc, arquivo_saida)\n",
        "\n",
        "    #Imprimir as FBFs convertidas em FNC no terminal e renderizar em Latex no Colab\n",
        "    imprimir_fbf(fbfs_fnc)\n",
        "\n",
        "if __name__ == \"__main__\":\n",
        "    main()\n"
      ]
    }
  ]
}